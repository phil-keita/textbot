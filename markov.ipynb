{
 "cells": [
  {
   "cell_type": "code",
   "execution_count": 25,
   "id": "61ff173f-a0a9-4f20-be7a-b0d2f1e9131c",
   "metadata": {},
   "outputs": [],
   "source": [
    "import pandas as pd\n",
    "import numpy as np\n",
    "import random\n",
    "import re"
   ]
  },
  {
   "cell_type": "markdown",
   "id": "b59bea6c-2105-41af-bc4e-27d6d699ab73",
   "metadata": {},
   "source": [
    "Step 1: Define State\n",
    "words and punctuation"
   ]
  },
  {
   "cell_type": "markdown",
   "id": "596f0837-2bd5-4ef8-aed2-4e2c77942d7e",
   "metadata": {},
   "source": [
    "Step 2: Reading File and Transition matrix"
   ]
  },
  {
   "cell_type": "code",
   "execution_count": 26,
   "id": "8215867d-657d-4e17-a10c-2b3bbbb64908",
   "metadata": {},
   "outputs": [],
   "source": [
    "trans_matrix = {} #our transition matrix\n",
    "freq = {} #frequency of each word            "
   ]
  },
  {
   "cell_type": "code",
   "execution_count": 27,
   "id": "2af55c60-8cca-41c5-9673-dc2b39be8396",
   "metadata": {},
   "outputs": [],
   "source": [
    "with open('green_eggs_ham.txt') as infile:\n",
    "    #Reading all words in file\n",
    "    text = infile.read()\n",
    "    # tokens = text.split() #punctation is not split\n",
    "    tokens = re.findall(r\"[\\w']+|[.,!?;]\", text) #punctuation is split as a different token\n",
    "    \n",
    "    #Going through all words and filling matrix\n",
    "    for i in range(len(tokens)-1):\n",
    "        current = tokens[i]\n",
    "        next = tokens[i+1]\n",
    "        \n",
    "        #Updating frequencies\n",
    "        if current in freq:\n",
    "            freq[current] += 1\n",
    "        else:\n",
    "            freq[current] = 1\n",
    "        \n",
    "        #If word is already in matrix\n",
    "        if current in trans_matrix:\n",
    "            #if next word appear before after current word\n",
    "            if next in trans_matrix[current]:\n",
    "                trans_matrix[current][next] += 1\n",
    "            else:\n",
    "                trans_matrix[current][next] = 1\n",
    "        else:\n",
    "            trans_matrix[current] = {next: 1}\n",
    "      \n",
    "    #Computing values from frequencies\n",
    "    for word in freq:\n",
    "        for k, v in trans_matrix[word].items():\n",
    "            trans_matrix[word][k] = v/freq[word]"
   ]
  },
  {
   "cell_type": "markdown",
   "id": "a735cf00-a929-47b3-a406-9e6ccb2d35e2",
   "metadata": {},
   "source": [
    "Matrix"
   ]
  },
  {
   "cell_type": "code",
   "execution_count": 28,
   "id": "f41ba268-d57d-4752-9082-4296a326cd15",
   "metadata": {},
   "outputs": [
    {
     "name": "stdout",
     "output_type": "stream",
     "text": [
      "{'I': 84, 'am': 15, 'Sam': 18, 'That': 2, '!': 38, 'do': 36, 'not': 65, 'like': 45, 'that': 1, 'Do': 1, 'you': 26, 'green': 11, 'eggs': 11, 'and': 13, 'ham': 10, '?': 16, 'them': 61, ',': 43, '.': 85, 'Would': 9, 'here': 9, 'or': 8, 'there': 9, 'would': 17, 'anywhere': 8, 'in': 39, 'a': 55, 'house': 8, 'with': 19, 'mouse': 8, 'eat': 22, 'box': 7, 'fox': 7, 'Not': 19, 'Could': 3, 'In': 2, 'car': 7, 'Eat': 2, 'Here': 2, 'they': 1, 'are': 2, 'could': 11, 'You': 8, 'may': 4, 'will': 21, 'see': 4, 'tree': 6, 'let': 3, 'me': 4, 'be': 4, 'A': 4, 'train': 9, 'on': 6, 'Let': 1, 'spam': 1, 'Say': 3, 'the': 11, 'dark': 7, 'rain': 4, 'goat': 4, 'boat': 3, 'So': 2, 'say': 2, 'Try': 3, 'And': 12, 'If': 1, 'try': 1, 'They': 1, 'so': 3, 'good': 2, 'Thank': 2}\n",
      "-------------------------\n",
      "{'I': {'am': 0.17857142857142858, 'do': 0.40476190476190477, 'would': 0.15476190476190477, 'could': 0.023809523809523808, 'will': 0.20238095238095238, 'say': 0.011904761904761904, 'like': 0.023809523809523808}, 'am': {'Sam': 0.06666666666666667, 'That': 0.06666666666666667, '!': 0.3333333333333333, '.': 0.5333333333333333}, 'Sam': {'Sam': 0.05555555555555555, 'I': 0.7777777777777778, '!': 0.1111111111111111, ',': 0.05555555555555555}, 'That': {'Sam': 1.0}, '!': {'That': 0.02631578947368421, 'I': 0.2894736842105263, 'Do': 0.02631578947368421, 'Eat': 0.02631578947368421, 'Here': 0.02631578947368421, 'You': 0.07894736842105263, 'A': 0.07894736842105263, 'Could': 0.02631578947368421, 'Not': 0.10526315789473684, 'Sam': 0.02631578947368421, 'Let': 0.02631578947368421, 'In': 0.02631578947368421, 'Would': 0.05263157894736842, 'Try': 0.02631578947368421, 'And': 0.05263157894736842, 'If': 0.02631578947368421, 'So': 0.02631578947368421, 'Thank': 0.05263157894736842}, 'do': {'not': 0.9444444444444444, '!': 0.027777777777777776, 'so': 0.027777777777777776}, 'not': {'like': 0.5538461538461539, 'eat': 0.16923076923076924, ',': 0.26153846153846155, 'in': 0.015384615384615385}, 'like': {'that': 0.022222222222222223, 'green': 0.2222222222222222, 'them': 0.7555555555555555}, 'that': {'Sam': 1.0}, 'Do': {'you': 1.0}, 'you': {'like': 0.15384615384615385, 'eat': 0.07692307692307693, '?': 0.07692307692307693, ',': 0.4230769230769231, 'see': 0.07692307692307693, 'say': 0.038461538461538464, 'may': 0.07692307692307693, 'will': 0.038461538461538464, '!': 0.038461538461538464}, 'green': {'eggs': 1.0}, 'eggs': {'and': 1.0}, 'and': {'ham': 0.7692307692307693, 'spam': 0.07692307692307693, 'you': 0.07692307692307693, 'there': 0.07692307692307693}, 'ham': {'?': 0.2, '.': 0.5, '!': 0.3}, '?': {'I': 0.5, 'Would': 0.125, 'Not': 0.125, 'Could': 0.0625, 'In': 0.0625, 'Eat': 0.0625, 'Here': 0.0625}, 'them': {',': 0.16393442622950818, 'here': 0.14754098360655737, 'anywhere': 0.13114754098360656, 'in': 0.22950819672131148, 'with': 0.18032786885245902, '!': 0.06557377049180328, '.': 0.04918032786885246, 'on': 0.01639344262295082, 'and': 0.01639344262295082}, ',': {'Sam': 0.2558139534883721, 'could': 0.20930232558139536, 'in': 0.13953488372093023, 'would': 0.09302325581395349, 'on': 0.06976744186046512, 'with': 0.09302325581395349, 'you': 0.046511627906976744, 'will': 0.023255813953488372, 'I': 0.046511627906976744, 'so': 0.023255813953488372}, '.': {'I': 0.47058823529411764, 'Would': 0.058823529411764705, 'Not': 0.15294117647058825, 'You': 0.058823529411764705, 'A': 0.011764705882352941, 'Say': 0.03529411764705882, 'Could': 0.011764705882352941, 'So': 0.011764705882352941, 'Try': 0.023529411764705882, 'Sam': 0.011764705882352941, 'And': 0.11764705882352941, '.': 0.023529411764705882, 'They': 0.011764705882352941}, 'Would': {'you': 1.0}, 'here': {'or': 0.8888888888888888, 'and': 0.1111111111111111}, 'or': {'there': 1.0}, 'there': {'?': 0.1111111111111111, '.': 0.8888888888888888}, 'would': {'not': 0.7647058823529411, 'you': 0.11764705882352941, 'eat': 0.11764705882352941}, 'anywhere': {'.': 0.625, '!': 0.375}, 'in': {'a': 0.7435897435897436, 'the': 0.2564102564102564}, 'a': {'house': 0.14545454545454545, 'mouse': 0.14545454545454545, 'box': 0.12727272727272726, 'fox': 0.12727272727272726, 'car': 0.12727272727272726, 'tree': 0.10909090909090909, 'train': 0.09090909090909091, 'goat': 0.07272727272727272, 'boat': 0.05454545454545454}, 'house': {'?': 0.125, '.': 0.875}, 'with': {'a': 1.0}, 'mouse': {'?': 0.125, '.': 0.875}, 'eat': {'them': 0.9545454545454546, 'green': 0.045454545454545456}, 'box': {'?': 0.14285714285714285, '.': 0.8571428571428571}, 'fox': {'?': 0.14285714285714285, '.': 0.8571428571428571}, 'Not': {'in': 0.7368421052631579, 'with': 0.21052631578947367, 'on': 0.05263157894736842}, 'Could': {'you': 1.0}, 'In': {'a': 0.5, 'the': 0.5}, 'car': {'?': 0.14285714285714285, '.': 0.42857142857142855, '!': 0.42857142857142855}, 'Eat': {'them': 1.0}, 'Here': {'they': 0.5, 'in': 0.5}, 'they': {'are': 1.0}, 'are': {'.': 0.5, 'so': 0.5}, 'could': {'not': 0.7272727272727273, 'you': 0.2727272727272727}, 'You': {'may': 0.25, 'will': 0.25, 'let': 0.25, 'do': 0.25}, 'may': {'like': 0.5, '.': 0.25, ',': 0.25}, 'will': {'see': 0.09523809523809523, 'not': 0.47619047619047616, 'let': 0.047619047619047616, 'try': 0.047619047619047616, 'eat': 0.3333333333333333}, 'see': {'.': 0.75, '!': 0.25}, 'tree': {'!': 0.5, '.': 0.5}, 'let': {'me': 1.0}, 'me': {'be': 1.0}, 'be': {'.': 0.25, '!': 0.5, ',': 0.25}, 'A': {'train': 1.0}, 'train': {'!': 0.5555555555555556, '?': 0.1111111111111111, '.': 0.3333333333333333}, 'on': {'a': 1.0}, 'Let': {'me': 1.0}, 'spam': {'.': 1.0}, 'Say': {'!': 1.0}, 'the': {'dark': 0.6363636363636364, 'rain': 0.36363636363636365}, 'dark': {'?': 0.2857142857142857, '!': 0.2857142857142857, '.': 0.42857142857142855}, 'rain': {'?': 0.25, '.': 0.75}, 'goat': {'?': 0.25, '!': 0.25, '.': 0.5}, 'boat': {'?': 0.3333333333333333, '.': 0.6666666666666666}, 'So': {'you': 0.5, 'I': 0.5}, 'say': {'.': 1.0}, 'Try': {'them': 1.0}, 'And': {'you': 0.08333333333333333, 'I': 0.5833333333333334, 'in': 0.25, 'on': 0.08333333333333333}, 'If': {'you': 1.0}, 'try': {'them': 1.0}, 'They': {'are': 1.0}, 'so': {'good': 0.6666666666666666, 'like': 0.3333333333333333}, 'good': {',': 1.0}, 'Thank': {'you': 1.0}}\n"
     ]
    }
   ],
   "source": [
    "print(freq)\n",
    "print(\"-------------------------\")\n",
    "print(trans_matrix)"
   ]
  },
  {
   "cell_type": "code",
   "execution_count": 29,
   "id": "dc61f45d-4328-4941-b20f-c361fb8560fe",
   "metadata": {},
   "outputs": [],
   "source": [
    "#Helper function. Will return next word\n",
    "def next_word(current):\n",
    "    rand = random.random()\n",
    "    cdf = 0\n",
    "    for word, value in trans_matrix[current].items():\n",
    "        cdf += value\n",
    "        if cdf > rand:\n",
    "            return word\n",
    "\n",
    "    "
   ]
  },
  {
   "cell_type": "code",
   "execution_count": 32,
   "id": "0a128a17-4942-4a36-a5b8-8c2684302cfd",
   "metadata": {},
   "outputs": [],
   "source": [
    "#Does task\n",
    "def generate_text(word):\n",
    "    speech = word\n",
    "    current = word\n",
    "    for i in range(150):\n",
    "        next = next_word(current)\n",
    "        speech += \" \" + next\n",
    "        current = next\n",
    "    return speech"
   ]
  },
  {
   "cell_type": "code",
   "execution_count": 38,
   "id": "a45833e5-e761-4165-84b6-e0a5605c24ab",
   "metadata": {},
   "outputs": [
    {
     "data": {
      "text/plain": [
       "'Try them in a goat ! In a goat ! I would not in the dark ! Not in a tree ! Not in the dark . And I will eat them with a house . I do not like them in a tree . I do not , you may like green eggs and ham . I do not like them anywhere ! A train ! Do you ? Would you will not like them in the dark ! Would you , could you like them here or there . Would you ? I am . I am ! Would you , Sam I would you like that Sam I will see . And you , Sam I would not , on a fox ? I do not like them , will not like green eggs and ham ? I do not eat them with a car ! Would you'"
      ]
     },
     "execution_count": 38,
     "metadata": {},
     "output_type": "execute_result"
    }
   ],
   "source": [
    "generate_text('Try')"
   ]
  }
 ],
 "metadata": {
  "kernelspec": {
   "display_name": "Python 3 (ipykernel)",
   "language": "python",
   "name": "python3"
  },
  "language_info": {
   "codemirror_mode": {
    "name": "ipython",
    "version": 3
   },
   "file_extension": ".py",
   "mimetype": "text/x-python",
   "name": "python",
   "nbconvert_exporter": "python",
   "pygments_lexer": "ipython3",
   "version": "3.9.16"
  }
 },
 "nbformat": 4,
 "nbformat_minor": 5
}
